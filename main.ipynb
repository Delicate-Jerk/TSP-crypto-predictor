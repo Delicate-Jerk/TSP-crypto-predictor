{
  "cells": [
    {
      "cell_type": "markdown",
      "metadata": {
        "id": "Adeue-FzAvqd"
      },
      "source": [
        "# Cryptocurrency Prophet"
      ]
    },
    {
      "cell_type": "code",
      "execution_count": 1,
      "metadata": {
        "colab": {
          "base_uri": "https://localhost:8080/"
        },
        "collapsed": true,
        "id": "ktah0v1Nu0ou",
        "outputId": "816fb92e-87d6-42a3-acf8-ff55058eef6d"
      },
      "outputs": [
        {
          "name": "stdout",
          "output_type": "stream",
          "text": [
            "Requirement already satisfied: pandas in /Users/user1/Library/Python/3.11/lib/python/site-packages (2.0.3)\n",
            "Requirement already satisfied: prophet in /Users/user1/Library/Python/3.11/lib/python/site-packages (1.1.4)\n",
            "Requirement already satisfied: requests in /Users/user1/Library/Python/3.11/lib/python/site-packages (2.31.0)\n",
            "Requirement already satisfied: ipywidgets in /Users/user1/Library/Python/3.11/lib/python/site-packages (8.1.0)\n",
            "Requirement already satisfied: python-dateutil>=2.8.2 in /Users/user1/Library/Python/3.11/lib/python/site-packages (from pandas) (2.8.2)\n",
            "Requirement already satisfied: pytz>=2020.1 in /Users/user1/Library/Python/3.11/lib/python/site-packages (from pandas) (2023.3)\n",
            "Requirement already satisfied: tzdata>=2022.1 in /Users/user1/Library/Python/3.11/lib/python/site-packages (from pandas) (2023.3)\n",
            "Requirement already satisfied: numpy>=1.21.0 in /Users/user1/Library/Python/3.11/lib/python/site-packages (from pandas) (1.24.3)\n",
            "Requirement already satisfied: cmdstanpy>=1.0.4 in /Users/user1/Library/Python/3.11/lib/python/site-packages (from prophet) (1.1.0)\n",
            "Requirement already satisfied: matplotlib>=2.0.0 in /Users/user1/Library/Python/3.11/lib/python/site-packages (from prophet) (3.7.2)\n",
            "Requirement already satisfied: LunarCalendar>=0.0.9 in /Users/user1/Library/Python/3.11/lib/python/site-packages (from prophet) (0.0.9)\n",
            "Requirement already satisfied: convertdate>=2.1.2 in /Users/user1/Library/Python/3.11/lib/python/site-packages (from prophet) (2.4.0)\n",
            "Requirement already satisfied: holidays>=0.25 in /Users/user1/Library/Python/3.11/lib/python/site-packages (from prophet) (0.32)\n",
            "Requirement already satisfied: tqdm>=4.36.1 in /Users/user1/Library/Python/3.11/lib/python/site-packages (from prophet) (4.66.1)\n",
            "Requirement already satisfied: importlib-resources in /Users/user1/Library/Python/3.11/lib/python/site-packages (from prophet) (6.0.1)\n",
            "Requirement already satisfied: charset-normalizer<4,>=2 in /Users/user1/Library/Python/3.11/lib/python/site-packages (from requests) (3.2.0)\n",
            "Requirement already satisfied: idna<4,>=2.5 in /Users/user1/Library/Python/3.11/lib/python/site-packages (from requests) (3.4)\n",
            "Requirement already satisfied: urllib3<3,>=1.21.1 in /Users/user1/Library/Python/3.11/lib/python/site-packages (from requests) (1.26.16)\n",
            "Requirement already satisfied: certifi>=2017.4.17 in /Users/user1/Library/Python/3.11/lib/python/site-packages (from requests) (2023.7.22)\n",
            "Requirement already satisfied: comm>=0.1.3 in /Users/user1/Library/Python/3.11/lib/python/site-packages (from ipywidgets) (0.1.4)\n",
            "Requirement already satisfied: ipython>=6.1.0 in /Users/user1/Library/Python/3.11/lib/python/site-packages (from ipywidgets) (8.14.0)\n",
            "Requirement already satisfied: traitlets>=4.3.1 in /Users/user1/Library/Python/3.11/lib/python/site-packages (from ipywidgets) (5.9.0)\n",
            "Requirement already satisfied: widgetsnbextension~=4.0.7 in /Users/user1/Library/Python/3.11/lib/python/site-packages (from ipywidgets) (4.0.8)\n",
            "Requirement already satisfied: jupyterlab-widgets~=3.0.7 in /Users/user1/Library/Python/3.11/lib/python/site-packages (from ipywidgets) (3.0.8)\n",
            "Requirement already satisfied: pymeeus<=1,>=0.3.13 in /Users/user1/Library/Python/3.11/lib/python/site-packages (from convertdate>=2.1.2->prophet) (0.5.12)\n",
            "Requirement already satisfied: backcall in /Users/user1/Library/Python/3.11/lib/python/site-packages (from ipython>=6.1.0->ipywidgets) (0.2.0)\n",
            "Requirement already satisfied: decorator in /Users/user1/Library/Python/3.11/lib/python/site-packages (from ipython>=6.1.0->ipywidgets) (4.4.2)\n",
            "Requirement already satisfied: jedi>=0.16 in /Users/user1/Library/Python/3.11/lib/python/site-packages (from ipython>=6.1.0->ipywidgets) (0.19.0)\n",
            "Requirement already satisfied: matplotlib-inline in /Users/user1/Library/Python/3.11/lib/python/site-packages (from ipython>=6.1.0->ipywidgets) (0.1.6)\n",
            "Requirement already satisfied: pickleshare in /Users/user1/Library/Python/3.11/lib/python/site-packages (from ipython>=6.1.0->ipywidgets) (0.7.5)\n",
            "Requirement already satisfied: prompt-toolkit!=3.0.37,<3.1.0,>=3.0.30 in /Users/user1/Library/Python/3.11/lib/python/site-packages (from ipython>=6.1.0->ipywidgets) (3.0.39)\n",
            "Requirement already satisfied: pygments>=2.4.0 in /Users/user1/Library/Python/3.11/lib/python/site-packages (from ipython>=6.1.0->ipywidgets) (2.16.1)\n",
            "Requirement already satisfied: stack-data in /Users/user1/Library/Python/3.11/lib/python/site-packages (from ipython>=6.1.0->ipywidgets) (0.6.2)\n",
            "Requirement already satisfied: pexpect>4.3 in /Users/user1/Library/Python/3.11/lib/python/site-packages (from ipython>=6.1.0->ipywidgets) (4.8.0)\n",
            "Requirement already satisfied: appnope in /Users/user1/Library/Python/3.11/lib/python/site-packages (from ipython>=6.1.0->ipywidgets) (0.1.3)\n",
            "Requirement already satisfied: ephem>=3.7.5.3 in /Users/user1/Library/Python/3.11/lib/python/site-packages (from LunarCalendar>=0.0.9->prophet) (4.1.4)\n",
            "Requirement already satisfied: contourpy>=1.0.1 in /Users/user1/Library/Python/3.11/lib/python/site-packages (from matplotlib>=2.0.0->prophet) (1.1.0)\n",
            "Requirement already satisfied: cycler>=0.10 in /Users/user1/Library/Python/3.11/lib/python/site-packages (from matplotlib>=2.0.0->prophet) (0.11.0)\n",
            "Requirement already satisfied: fonttools>=4.22.0 in /Users/user1/Library/Python/3.11/lib/python/site-packages (from matplotlib>=2.0.0->prophet) (4.42.1)\n",
            "Requirement already satisfied: kiwisolver>=1.0.1 in /Users/user1/Library/Python/3.11/lib/python/site-packages (from matplotlib>=2.0.0->prophet) (1.4.5)\n",
            "Requirement already satisfied: packaging>=20.0 in /usr/local/lib/python3.11/site-packages (from matplotlib>=2.0.0->prophet) (23.2)\n",
            "Requirement already satisfied: pillow>=6.2.0 in /Users/user1/Library/Python/3.11/lib/python/site-packages (from matplotlib>=2.0.0->prophet) (9.5.0)\n",
            "Requirement already satisfied: pyparsing<3.1,>=2.3.1 in /Users/user1/Library/Python/3.11/lib/python/site-packages (from matplotlib>=2.0.0->prophet) (3.0.9)\n",
            "Requirement already satisfied: six>=1.5 in /Users/user1/Library/Python/3.11/lib/python/site-packages (from python-dateutil>=2.8.2->pandas) (1.16.0)\n",
            "Requirement already satisfied: parso<0.9.0,>=0.8.3 in /Users/user1/Library/Python/3.11/lib/python/site-packages (from jedi>=0.16->ipython>=6.1.0->ipywidgets) (0.8.3)\n",
            "Requirement already satisfied: ptyprocess>=0.5 in /Users/user1/Library/Python/3.11/lib/python/site-packages (from pexpect>4.3->ipython>=6.1.0->ipywidgets) (0.7.0)\n",
            "Requirement already satisfied: wcwidth in /Users/user1/Library/Python/3.11/lib/python/site-packages (from prompt-toolkit!=3.0.37,<3.1.0,>=3.0.30->ipython>=6.1.0->ipywidgets) (0.2.6)\n",
            "Requirement already satisfied: executing>=1.2.0 in /Users/user1/Library/Python/3.11/lib/python/site-packages (from stack-data->ipython>=6.1.0->ipywidgets) (1.2.0)\n",
            "Requirement already satisfied: asttokens>=2.1.0 in /Users/user1/Library/Python/3.11/lib/python/site-packages (from stack-data->ipython>=6.1.0->ipywidgets) (2.2.1)\n",
            "Requirement already satisfied: pure-eval in /Users/user1/Library/Python/3.11/lib/python/site-packages (from stack-data->ipython>=6.1.0->ipywidgets) (0.2.2)\n",
            "\n",
            "\u001b[1m[\u001b[0m\u001b[34;49mnotice\u001b[0m\u001b[1;39;49m]\u001b[0m\u001b[39;49m A new release of pip is available: \u001b[0m\u001b[31;49m23.3\u001b[0m\u001b[39;49m -> \u001b[0m\u001b[32;49m24.0\u001b[0m\n",
            "\u001b[1m[\u001b[0m\u001b[34;49mnotice\u001b[0m\u001b[1;39;49m]\u001b[0m\u001b[39;49m To update, run: \u001b[0m\u001b[32;49mpython3.11 -m pip install --upgrade pip\u001b[0m\n"
          ]
        }
      ],
      "source": [
        "!pip install pandas prophet requests ipywidgets"
      ]
    },
    {
      "cell_type": "code",
      "execution_count": 2,
      "metadata": {
        "id": "tFBiTfb0upx5"
      },
      "outputs": [],
      "source": [
        "#@title Using Python Prophet and CoinCap for crpytocurrency predictions.\n",
        "#@markdown Created a list of all the available currencies via CoinCap.<br>\n",
        "#@markdown Used historical pricing on a 1 day basis as our dataset.\n",
        "\n",
        "import logging\n",
        "logging.basicConfig()\n",
        "logger = logging.getLogger('foo')\n",
        "logger.setLevel(logging.ERROR)\n",
        "\n",
        "import sys\n",
        "from datetime import datetime\n",
        "from typing import List, Set\n",
        "\n",
        "import pandas as pd\n",
        "import requests\n",
        "from prophet import Prophet\n",
        "\n",
        "\n",
        "proxies = {\n",
        "    # 'https': 'https://116.254.116.99:8080'\n",
        "}\n",
        "\n",
        "requests.Session().get('https://api.coincap.io/v2/assets', proxies=proxies)\n",
        "\n",
        "def get_supported_currencies_datasets() -> List[str]:\n",
        "    try:\n",
        "      datasets = requests.Session().get('https://api.coincap.io/v2/assets', proxies=proxies).json()\n",
        "    except Exception as e:\n",
        "      print(e)\n",
        "      print('Failed to get the list of currencies from coincap. Please retry.')\n",
        "      return\n",
        "    coins = [f['id'] for f in datasets['data']]\n",
        "    return coins\n",
        "\n",
        "\n",
        "def predict_currencies(currencies: Set[str]):\n",
        "    currencies = [c for c in currencies if c]\n",
        "    futures = []\n",
        "    forecasts = []\n",
        "    for currency_name in currencies:\n",
        "        print(\"Forcasting\", currency_name)\n",
        "        # Get the dataset\n",
        "        try:\n",
        "          historical_data = requests.Session().get(f'https://api.coincap.io/v2/assets/{currency_name}/history?interval=d1', proxies=proxies).json()[\n",
        "              'data']\n",
        "        except Exception:\n",
        "          print(f'Failed to get the data for {currency_name} from coincap. Please retry.')\n",
        "          return\n",
        "\n",
        "        df = pd.DataFrame.from_dict(historical_data)\n",
        "\n",
        "        # Normalization\n",
        "        print(\"Normalizing the data...\")\n",
        "        df.rename(columns={\"time\": \"ds\", \"priceUsd\": \"y\"}, inplace=True)\n",
        "        # Stripping timezone\n",
        "        df['ds'] = df['ds'].apply(lambda timestamp: datetime.fromtimestamp(int(timestamp) / 1000))\n",
        "        df['ds'] = df['ds'].apply(lambda d: d.replace(tzinfo=None))\n",
        "        df['ds'] = pd.to_datetime(df['ds'])\n",
        "        df['ds'].dt.tz_localize(None)\n",
        "\n",
        "        # Fit\n",
        "        print(\"Creating a time-series model...\")\n",
        "        m = Prophet(seasonality_mode='multiplicative', daily_seasonality=True, yearly_seasonality=True).fit(df)\n",
        "\n",
        "        # Predictions\n",
        "        future = m.make_future_dataframe(periods=90, include_history=False)\n",
        "        forecast = m.predict(future)\n",
        "        futures.append(future)\n",
        "        forecasts.append(forecast)\n",
        "        print(f\"Forecast for {currency_name}: \")\n",
        "        print(forecast[['ds', 'yhat', 'yhat_lower', 'yhat_upper']].tail())\n",
        "        forecast_plt = m.plot(forecast)\n",
        "        forecast_gca = forecast_plt.gca()\n",
        "        forecast_gca.set_title(f\"{currency_name.upper()} Forecast\", size=34)\n",
        "        forecast_plt.show()\n",
        "        # components_plt = m.plot_components(forecast)\n",
        "        # components_gca = components_plt.gca()\n",
        "        # components_gca.set_title(f\"{currency_name.upper()} Components\", size=34)\n",
        "        # components_plt.show()\n",
        "\n",
        "    return forecasts"
      ]
    },
    {
      "cell_type": "code",
      "execution_count": 3,
      "metadata": {
        "cellView": "form",
        "colab": {
          "base_uri": "https://localhost:8080/",
          "height": 1000,
          "referenced_widgets": [
            "1ba5d8bae19e4c3fa98667edff79dbe9",
            "4ce125205bfd4f03a0f6bc0783526e08",
            "b237849edc8b4329b517ed7d973ef326"
          ]
        },
        "id": "UyL-OOJb69Y1",
        "outputId": "823fab17-1b75-40ed-b346-21336b5adcdf"
      },
      "outputs": [
        {
          "data": {
            "application/vnd.jupyter.widget-view+json": {
              "model_id": "00449139219140ccbf3d653d3e4c39ba",
              "version_major": 2,
              "version_minor": 0
            },
            "text/plain": [
              "SelectMultiple(description='Currencies', index=(1,), options=('bitcoin', 'ethereum', 'tether', 'binance-coin',…"
            ]
          },
          "metadata": {},
          "output_type": "display_data"
        }
      ],
      "source": [
        "#@title List all currencies fetched on CoinCap\n",
        "#@markdown Select a crypto\n",
        "supported_currencies = get_supported_currencies_datasets()\n",
        "if supported_currencies:\n",
        "  import ipywidgets as widgets\n",
        "  selection = widgets.SelectMultiple(\n",
        "      options=supported_currencies,\n",
        "      value=['ethereum'],\n",
        "      rows=100,\n",
        "      description='Currencies',\n",
        "      disabled=False\n",
        "  )\n",
        "  display(selection)"
      ]
    },
    {
      "cell_type": "code",
      "execution_count": 5,
      "metadata": {
        "colab": {
          "base_uri": "https://localhost:8080/",
          "height": 1000
        },
        "id": "H-kUlUJBuza5",
        "outputId": "30dd492d-e71a-4109-811d-b00a4682314c"
      },
      "outputs": [
        {
          "name": "stdout",
          "output_type": "stream",
          "text": [
            "Predicting  ('xinfin-network',)\n",
            "Forcasting xinfin-network\n"
          ]
        },
        {
          "name": "stderr",
          "output_type": "stream",
          "text": [
            "DEBUG:cmdstanpy:input tempfile: /var/folders/_5/6v34wcl528z8xh_w0f3x9dxw0000gq/T/tmplmfnqbsv/qui_xaxu.json\n",
            "DEBUG:cmdstanpy:input tempfile: /var/folders/_5/6v34wcl528z8xh_w0f3x9dxw0000gq/T/tmplmfnqbsv/j3mr_yhm.json\n",
            "DEBUG:cmdstanpy:idx 0\n",
            "DEBUG:cmdstanpy:running CmdStan, num_threads: None\n",
            "DEBUG:cmdstanpy:CmdStan args: ['/Users/user1/Library/Python/3.11/lib/python/site-packages/prophet/stan_model/prophet_model.bin', 'random', 'seed=38443', 'data', 'file=/var/folders/_5/6v34wcl528z8xh_w0f3x9dxw0000gq/T/tmplmfnqbsv/qui_xaxu.json', 'init=/var/folders/_5/6v34wcl528z8xh_w0f3x9dxw0000gq/T/tmplmfnqbsv/j3mr_yhm.json', 'output', 'file=/var/folders/_5/6v34wcl528z8xh_w0f3x9dxw0000gq/T/tmplmfnqbsv/prophet_modelx43kbzc2/prophet_model-20240220145639.csv', 'method=optimize', 'algorithm=lbfgs', 'iter=10000']\n",
            "14:56:39 - cmdstanpy - INFO - Chain [1] start processing\n",
            "INFO:cmdstanpy:Chain [1] start processing\n",
            "14:56:39 - cmdstanpy - INFO - Chain [1] done processing\n",
            "INFO:cmdstanpy:Chain [1] done processing\n"
          ]
        },
        {
          "name": "stdout",
          "output_type": "stream",
          "text": [
            "Normalizing the data...\n",
            "Creating a time-series model...\n",
            "Forecast for xinfin-network: \n",
            "                    ds      yhat  yhat_lower  yhat_upper\n",
            "85 2024-05-15 05:30:00  0.051137    0.047667    0.054496\n",
            "86 2024-05-16 05:30:00  0.051441    0.048347    0.054710\n",
            "87 2024-05-17 05:30:00  0.051147    0.047731    0.054473\n",
            "88 2024-05-18 05:30:00  0.050792    0.047510    0.054201\n",
            "89 2024-05-19 05:30:00  0.050164    0.046842    0.053585\n"
          ]
        },
        {
          "name": "stderr",
          "output_type": "stream",
          "text": [
            "/var/folders/_5/6v34wcl528z8xh_w0f3x9dxw0000gq/T/ipykernel_7694/3019267760.py:75: UserWarning: Matplotlib is currently using module://matplotlib_inline.backend_inline, which is a non-GUI backend, so cannot show the figure.\n",
            "  forecast_plt.show()\n"
          ]
        },
        {
          "data": {
            "image/png": "[encoded data removed]",
            "text/plain": [
              "<Figure size 1000x600 with 1 Axes>"
            ]
          },
          "metadata": {},
          "output_type": "display_data"
        }
      ],
      "source": [
        "#@title Run the predictions on the selected currencies\n",
        "currencies = selection.value\n",
        "print('Predicting ',currencies)\n",
        "forecasts = predict_currencies(selection.value)"
      ]
    },
    {
      "cell_type": "code",
      "execution_count": null,
      "metadata": {},
      "outputs": [],
      "source": []
    }
  ],
  "metadata": {
    "accelerator": "GPU",
    "colab": {
      "provenance": []
    },
    "gpuClass": "standard",
    "kernelspec": {
      "display_name": "Python 3",
      "name": "python3"
    },
    "language_info": {
      "codemirror_mode": {
        "name": "ipython",
        "version": 3
      },
      "file_extension": ".py",
      "mimetype": "text/x-python",
      "name": "python",
      "nbconvert_exporter": "python",
      "pygments_lexer": "ipython3",
      "version": "3.11.7"
    },
    "widgets": {
      "application/vnd.jupyter.widget-state+json": {
        "1ba5d8bae19e4c3fa98667edff79dbe9": {
          "model_module": "@jupyter-widgets/controls",
          "model_module_version": "1.5.0",
          "model_name": "SelectMultipleModel",
          "state": {
            "_dom_classes": [],
            "_model_module": "@jupyter-widgets/controls",
            "_model_module_version": "1.5.0",
            "_model_name": "SelectMultipleModel",
            "_options_labels": [
              "bitcoin",
              "ethereum",
              "tether",
              "binance-coin",
              "usd-coin",
              "xrp",
              "cardano",
              "dogecoin",
              "solana",
              "tron",
              "litecoin",
              "polygon",
              "polkadot",
              "multi-collateral-dai",
              "wrapped-bitcoin",
              "shiba-inu",
              "binance-usd",
              "avalanche",
              "unus-sed-leo",
              "trueusd",
              "chainlink",
              "uniswap",
              "monero",
              "bitcoin-cash",
              "ethereum-classic",
              "stellar",
              "cosmos",
              "internet-computer",
              "lido-dao",
              "filecoin",
              "bitcoin-bep2",
              "crypto-com-coin",
              "quant",
              "near-protocol",
              "vechain",
              "stacks",
              "paxos-standard",
              "the-graph",
              "algorand",
              "render-token",
              "rocket-pool",
              "fantom",
              "aave",
              "elrond-egld",
              "the-sandbox",
              "hedera-hashgraph",
              "eos",
              "maker",
              "tezos",
              "theta",
              "decentraland",
              "zcash",
              "conflux-network",
              "kucoin-token",
              "axie-infinity",
              "neo",
              "curve-dao-token",
              "flow",
              "bitcoin-sv",
              "kava",
              "gala",
              "klaytn",
              "injective-protocol",
              "chiliz",
              "iota",
              "casper",
              "synthetix-network-token",
              "frax-share",
              "huobi-token",
              "ecash",
              "fei-protocol",
              "mina",
              "gatetoken",
              "trust-wallet-token",
              "xinfin-network",
              "dash",
              "wootrade",
              "nexo",
              "ftx-token",
              "mask-network",
              "thorchain",
              "zilliqa",
              "loopring",
              "convex-finance",
              "gnosis-gno",
              "pancakeswap",
              "oasis-network",
              "1inch",
              "dydx",
              "singularitynet",
              "enjin-coin",
              "basic-attention-token",
              "nem",
              "holo",
              "balancer",
              "qtum",
              "ravencoin",
              "compound",
              "celo",
              "ankr"
            ],
            "_view_count": null,
            "_view_module": "@jupyter-widgets/controls",
            "_view_module_version": "1.5.0",
            "_view_name": "SelectMultipleView",
            "description": "Currencies",
            "description_tooltip": null,
            "disabled": false,
            "index": [
              0
            ],
            "layout": "IPY_MODEL_4ce125205bfd4f03a0f6bc0783526e08",
            "rows": 100,
            "style": "IPY_MODEL_b237849edc8b4329b517ed7d973ef326"
          }
        },
        "4ce125205bfd4f03a0f6bc0783526e08": {
          "model_module": "@jupyter-widgets/base",
          "model_module_version": "1.2.0",
          "model_name": "LayoutModel",
          "state": {
            "_model_module": "@jupyter-widgets/base",
            "_model_module_version": "1.2.0",
            "_model_name": "LayoutModel",
            "_view_count": null,
            "_view_module": "@jupyter-widgets/base",
            "_view_module_version": "1.2.0",
            "_view_name": "LayoutView",
            "align_content": null,
            "align_items": null,
            "align_self": null,
            "border": null,
            "bottom": null,
            "display": null,
            "flex": null,
            "flex_flow": null,
            "grid_area": null,
            "grid_auto_columns": null,
            "grid_auto_flow": null,
            "grid_auto_rows": null,
            "grid_column": null,
            "grid_gap": null,
            "grid_row": null,
            "grid_template_areas": null,
            "grid_template_columns": null,
            "grid_template_rows": null,
            "height": null,
            "justify_content": null,
            "justify_items": null,
            "left": null,
            "margin": null,
            "max_height": null,
            "max_width": null,
            "min_height": null,
            "min_width": null,
            "object_fit": null,
            "object_position": null,
            "order": null,
            "overflow": null,
            "overflow_x": null,
            "overflow_y": null,
            "padding": null,
            "right": null,
            "top": null,
            "visibility": null,
            "width": null
          }
        },
        "b237849edc8b4329b517ed7d973ef326": {
          "model_module": "@jupyter-widgets/controls",
          "model_module_version": "1.5.0",
          "model_name": "DescriptionStyleModel",
          "state": {
            "_model_module": "@jupyter-widgets/controls",
            "_model_module_version": "1.5.0",
            "_model_name": "DescriptionStyleModel",
            "_view_count": null,
            "_view_module": "@jupyter-widgets/base",
            "_view_module_version": "1.2.0",
            "_view_name": "StyleView",
            "description_width": ""
          }
        }
      }
    }
  },
  "nbformat": 4,
  "nbformat_minor": 0
}
