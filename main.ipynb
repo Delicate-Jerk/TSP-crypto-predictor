{
  "cells": [
    {
      "cell_type": "markdown",
      "metadata": {
        "id": "Adeue-FzAvqd"
      },
      "source": [
        "# Cryptocurrency Prophet"
      ]
    },
    {
      "cell_type": "code",
      "execution_count": null,
      "metadata": {
        "colab": {
          "base_uri": "https://localhost:8080/"
        },
        "collapsed": true,
        "id": "ktah0v1Nu0ou",
        "outputId": "816fb92e-87d6-42a3-acf8-ff55058eef6d"
      },
      "outputs": [],
      "source": [
        "!pip install pandas prophet requests ipywidgets"
      ]
    },
    {
      "cell_type": "code",
      "execution_count": 12,
      "metadata": {
        "id": "tFBiTfb0upx5"
      },
      "outputs": [],
      "source": [
        "#@title Using Python Prophet and CoinCap for crpytocurrency predictions.\n",
        "#@markdown Created a list of all the available currencies via CoinCap.<br>\n",
        "#@markdown Used historical pricing on a 1 day basis as our dataset.\n",
        "\n",
        "import logging\n",
        "logging.basicConfig()\n",
        "logger = logging.getLogger('foo')\n",
        "logger.setLevel(logging.ERROR)\n",
        "\n",
        "import sys\n",
        "from datetime import datetime\n",
        "from typing import List, Set\n",
        "\n",
        "import pandas as pd\n",
        "import requests\n",
        "from prophet import Prophet\n",
        "\n",
        "\n",
        "proxies = {\n",
        "    # 'https': 'https://116.254.116.99:8080'\n",
        "}\n",
        "\n",
        "requests.Session().get('https://api.coincap.io/v2/assets', proxies=proxies)\n",
        "\n",
        "def get_supported_currencies_datasets() -> List[str]:\n",
        "    try:\n",
        "      datasets = requests.Session().get('https://api.coincap.io/v2/assets', proxies=proxies).json()\n",
        "    except Exception as e:\n",
        "      print(e)\n",
        "      print('Failed to get the list of currencies from coincap. Please retry.')\n",
        "      return\n",
        "    coins = [f['id'] for f in datasets['data']]\n",
        "    return coins\n",
        "\n",
        "\n",
        "def predict_currencies(currencies: Set[str]):\n",
        "    currencies = [c for c in currencies if c]\n",
        "    futures = []\n",
        "    forecasts = []\n",
        "    for currency_name in currencies:\n",
        "        print(\"Forcasting\", currency_name)\n",
        "        # Get the dataset\n",
        "        try:\n",
        "          historical_data = requests.Session().get(f'https://api.coincap.io/v2/assets/{currency_name}/history?interval=d1', proxies=proxies).json()[\n",
        "              'data']\n",
        "        except Exception:\n",
        "          print(f'Failed to get the data for {currency_name} from coincap. Please retry.')\n",
        "          return\n",
        "\n",
        "        df = pd.DataFrame.from_dict(historical_data)\n",
        "\n",
        "        # Normalization\n",
        "        print(\"Normalizing the data...\")\n",
        "        df.rename(columns={\"time\": \"ds\", \"priceUsd\": \"y\"}, inplace=True)\n",
        "        # Stripping timezone\n",
        "        df['ds'] = df['ds'].apply(lambda timestamp: datetime.fromtimestamp(int(timestamp) / 1000))\n",
        "        df['ds'] = df['ds'].apply(lambda d: d.replace(tzinfo=None))\n",
        "        df['ds'] = pd.to_datetime(df['ds'])\n",
        "        df['ds'].dt.tz_localize(None)\n",
        "\n",
        "        # Fit\n",
        "        print(\"Creating a time-series model...\")\n",
        "        m = Prophet(seasonality_mode='multiplicative', daily_seasonality=True, yearly_seasonality=True).fit(df)\n",
        "\n",
        "        # Predictions\n",
        "        future = m.make_future_dataframe(periods=90, include_history=False)\n",
        "        forecast = m.predict(future)\n",
        "        futures.append(future)\n",
        "        forecasts.append(forecast)\n",
        "        print(f\"Forecast for {currency_name}: \")\n",
        "        print(forecast[['ds', 'yhat', 'yhat_lower', 'yhat_upper']].tail())\n",
        "        forecast_plt = m.plot(forecast)\n",
        "        forecast_gca = forecast_plt.gca()\n",
        "        forecast_gca.set_title(f\"{currency_name.upper()} Forecast\", size=34)\n",
        "        forecast_plt.show()\n",
        "        # components_plt = m.plot_components(forecast)\n",
        "        # components_gca = components_plt.gca()\n",
        "        # components_gca.set_title(f\"{currency_name.upper()} Components\", size=34)\n",
        "        # components_plt.show()\n",
        "\n",
        "    return forecasts"
      ]
    },
    {
      "cell_type": "code",
      "execution_count": 18,
      "metadata": {
        "cellView": "form",
        "colab": {
          "base_uri": "https://localhost:8080/",
          "height": 1000,
          "referenced_widgets": [
            "1ba5d8bae19e4c3fa98667edff79dbe9",
            "4ce125205bfd4f03a0f6bc0783526e08",
            "b237849edc8b4329b517ed7d973ef326"
          ]
        },
        "id": "UyL-OOJb69Y1",
        "outputId": "823fab17-1b75-40ed-b346-21336b5adcdf"
      },
      "outputs": [
        {
          "data": {
            "application/vnd.jupyter.widget-view+json": {
              "model_id": "1ba5d8bae19e4c3fa98667edff79dbe9",
              "version_major": 2,
              "version_minor": 0
            },
            "text/plain": [
              "SelectMultiple(description='Currencies', index=(1,), options=('bitcoin', 'ethereum', 'tether', 'binance-coin',…"
            ]
          },
          "metadata": {},
          "output_type": "display_data"
        }
      ],
      "source": [
        "#@title List all currencies fetched on CoinCap\n",
        "#@markdown Select a crypto\n",
        "supported_currencies = get_supported_currencies_datasets()\n",
        "if supported_currencies:\n",
        "  import ipywidgets as widgets\n",
        "  selection = widgets.SelectMultiple(\n",
        "      options=supported_currencies,\n",
        "      value=['ethereum'],\n",
        "      rows=100,\n",
        "      description='Currencies',\n",
        "      disabled=False\n",
        "  )\n",
        "  display(selection)"
      ]
    },
    {
      "cell_type": "code",
      "execution_count": null,
      "metadata": {
        "colab": {
          "base_uri": "https://localhost:8080/",
          "height": 1000
        },
        "id": "H-kUlUJBuza5",
        "outputId": "30dd492d-e71a-4109-811d-b00a4682314c"
      },
      "outputs": [],
      "source": [
        "#@title Run the predictions on the selected currencies\n",
        "currencies = selection.value\n",
        "print('Predicting ',currencies)\n",
        "forecasts = predict_currencies(selection.value)"
      ]
    }
  ],
  "metadata": {
    "accelerator": "GPU",
    "colab": {
      "provenance": []
    },
    "gpuClass": "standard",
    "kernelspec": {
      "display_name": "Python 3",
      "name": "python3"
    },
    "language_info": {
      "name": "python"
    },
    "widgets": {
      "application/vnd.jupyter.widget-state+json": {
        "1ba5d8bae19e4c3fa98667edff79dbe9": {
          "model_module": "@jupyter-widgets/controls",
          "model_module_version": "1.5.0",
          "model_name": "SelectMultipleModel",
          "state": {
            "_dom_classes": [],
            "_model_module": "@jupyter-widgets/controls",
            "_model_module_version": "1.5.0",
            "_model_name": "SelectMultipleModel",
            "_options_labels": [
              "bitcoin",
              "ethereum",
              "tether",
              "binance-coin",
              "usd-coin",
              "xrp",
              "cardano",
              "dogecoin",
              "solana",
              "tron",
              "litecoin",
              "polygon",
              "polkadot",
              "multi-collateral-dai",
              "wrapped-bitcoin",
              "shiba-inu",
              "binance-usd",
              "avalanche",
              "unus-sed-leo",
              "trueusd",
              "chainlink",
              "uniswap",
              "monero",
              "bitcoin-cash",
              "ethereum-classic",
              "stellar",
              "cosmos",
              "internet-computer",
              "lido-dao",
              "filecoin",
              "bitcoin-bep2",
              "crypto-com-coin",
              "quant",
              "near-protocol",
              "vechain",
              "stacks",
              "paxos-standard",
              "the-graph",
              "algorand",
              "render-token",
              "rocket-pool",
              "fantom",
              "aave",
              "elrond-egld",
              "the-sandbox",
              "hedera-hashgraph",
              "eos",
              "maker",
              "tezos",
              "theta",
              "decentraland",
              "zcash",
              "conflux-network",
              "kucoin-token",
              "axie-infinity",
              "neo",
              "curve-dao-token",
              "flow",
              "bitcoin-sv",
              "kava",
              "gala",
              "klaytn",
              "injective-protocol",
              "chiliz",
              "iota",
              "casper",
              "synthetix-network-token",
              "frax-share",
              "huobi-token",
              "ecash",
              "fei-protocol",
              "mina",
              "gatetoken",
              "trust-wallet-token",
              "xinfin-network",
              "dash",
              "wootrade",
              "nexo",
              "ftx-token",
              "mask-network",
              "thorchain",
              "zilliqa",
              "loopring",
              "convex-finance",
              "gnosis-gno",
              "pancakeswap",
              "oasis-network",
              "1inch",
              "dydx",
              "singularitynet",
              "enjin-coin",
              "basic-attention-token",
              "nem",
              "holo",
              "balancer",
              "qtum",
              "ravencoin",
              "compound",
              "celo",
              "ankr"
            ],
            "_view_count": null,
            "_view_module": "@jupyter-widgets/controls",
            "_view_module_version": "1.5.0",
            "_view_name": "SelectMultipleView",
            "description": "Currencies",
            "description_tooltip": null,
            "disabled": false,
            "index": [
              0
            ],
            "layout": "IPY_MODEL_4ce125205bfd4f03a0f6bc0783526e08",
            "rows": 100,
            "style": "IPY_MODEL_b237849edc8b4329b517ed7d973ef326"
          }
        },
        "4ce125205bfd4f03a0f6bc0783526e08": {
          "model_module": "@jupyter-widgets/base",
          "model_module_version": "1.2.0",
          "model_name": "LayoutModel",
          "state": {
            "_model_module": "@jupyter-widgets/base",
            "_model_module_version": "1.2.0",
            "_model_name": "LayoutModel",
            "_view_count": null,
            "_view_module": "@jupyter-widgets/base",
            "_view_module_version": "1.2.0",
            "_view_name": "LayoutView",
            "align_content": null,
            "align_items": null,
            "align_self": null,
            "border": null,
            "bottom": null,
            "display": null,
            "flex": null,
            "flex_flow": null,
            "grid_area": null,
            "grid_auto_columns": null,
            "grid_auto_flow": null,
            "grid_auto_rows": null,
            "grid_column": null,
            "grid_gap": null,
            "grid_row": null,
            "grid_template_areas": null,
            "grid_template_columns": null,
            "grid_template_rows": null,
            "height": null,
            "justify_content": null,
            "justify_items": null,
            "left": null,
            "margin": null,
            "max_height": null,
            "max_width": null,
            "min_height": null,
            "min_width": null,
            "object_fit": null,
            "object_position": null,
            "order": null,
            "overflow": null,
            "overflow_x": null,
            "overflow_y": null,
            "padding": null,
            "right": null,
            "top": null,
            "visibility": null,
            "width": null
          }
        },
        "b237849edc8b4329b517ed7d973ef326": {
          "model_module": "@jupyter-widgets/controls",
          "model_module_version": "1.5.0",
          "model_name": "DescriptionStyleModel",
          "state": {
            "_model_module": "@jupyter-widgets/controls",
            "_model_module_version": "1.5.0",
            "_model_name": "DescriptionStyleModel",
            "_view_count": null,
            "_view_module": "@jupyter-widgets/base",
            "_view_module_version": "1.2.0",
            "_view_name": "StyleView",
            "description_width": ""
          }
        }
      }
    }
  },
  "nbformat": 4,
  "nbformat_minor": 0
}
